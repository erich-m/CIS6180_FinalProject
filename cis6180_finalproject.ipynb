{
 "cells": [
  {
   "cell_type": "markdown",
   "metadata": {},
   "source": [
    "#  Project Description\n",
    "\n",
    "##  Background\n",
    "\n",
    "Eye tracking is a technology that is used to measure the movement and position of the eye. Eye tracking can be used to obtain a variety of information, such as where someone is looking (also known as the gaze point). The raw eye tracking data cann also be used to engineer new features - eye tracking events - which can further be used to obtain more information. \n",
    "\n",
    "The types of eye tracking events that we can measure for include fixations, which are periods of time where the eye fixates on a target. There are saccades where the eyes move between points of fixations. There are also post-saccidic oscillations and glissades where the eye will oscillate after a saccade before settling to a fixation point. Post-saccadic oscillations overshoot the target, while glissades undershoot.\n",
    "\n",
    "These types of events can be measured by applying different threshold techniques. I-VT applies a velocity threshold; If the speed between two gaze points is below a certain threshold, it is identified as a fixation. If the speed is above the threshold, it is a  saccade. There is also a dispersion/distance based method as well known as I-DT, that uses the distance between the gaze points instead to classify either fixations and saccades. These threshold algorithms are common in practice, but do not have the ability to classify more complex events. \n",
    "\n",
    "For the purpose of performing the I-VT  algorithm, a speed of 0.5px/ms was selected, and a dispersion of 1º was selected for I-DT.\n",
    "\n",
    "## Dataset\n",
    "\n",
    "For the following notebook, the dataset used is from a study performed in the University of Guelph DRiVE lab. Particpants wore eye-tracking glasses (Tobii Pro 3 glasses) and drove an OKTAL driving simulator. The dataset contains 72 participants that are randomly separated into train, test and validation sets. This will prevent leakage amonst the different particpant data.  Each of the files contains 3 different sets of data. There is some device information that is read in and in the sheet titled 'Event Data'. There is IMU sensor data in the sheet titled 'IMU Data'. The eye tracking data is in the sheet titled 'Gaze Data'. The sheets have 4, 22 and 11 columns respectively. The data  from the eye tracker is collected at 60Hz, and each participant file has roughly 20000 records in each file. The data is pre-split to ensure that there is no leakage between participant data, which could affect the training of the models, and to ensure a more consistent evaluation of the performance of the models.\n",
    "\n",
    "## Procedure\n",
    "\n",
    "1. The Gaze Data is read into the notebook using an Excel library.\n",
    "2. For each participant file, any gaps in the data are filled in using linear interpolation first. \n",
    "3. Next, every two records are taken to calculate the labels using I-VT and I-DT and these are stored into a new dataframe. "
   ]
  },
  {
   "cell_type": "markdown",
   "metadata": {},
   "source": [
    "# Set Up Python Notebook"
   ]
  },
  {
   "cell_type": "markdown",
   "metadata": {},
   "source": [
    "## Import Python Libraries"
   ]
  },
  {
   "cell_type": "code",
   "execution_count": 46,
   "metadata": {},
   "outputs": [],
   "source": [
    "import os\n",
    "from os import listdir\n",
    "import pandas as pd\n",
    "\n",
    "os.environ[\"PYARROW_IGNORE_TIMEZONE\"] = \"1\"\n",
    "\n",
    "# import spark libraries\n",
    "import findspark\n",
    "findspark.init()\n",
    "from pyspark.sql import SparkSession\n",
    "\n",
    "import pyspark.pandas as ps\n",
    "from pyspark.sql.functions import col\n",
    "from pyspark.sql.functions import when\n",
    "from pyspark.sql.functions import count\n",
    "from pyspark.sql.window import Window\n",
    "from pyspark.sql import functions as F"
   ]
  },
  {
   "cell_type": "markdown",
   "metadata": {},
   "source": [
    "## Define Global Variables"
   ]
  },
  {
   "cell_type": "code",
   "execution_count": 47,
   "metadata": {},
   "outputs": [],
   "source": [
    "datasets = ['dataset_training','dataset_testing','dataset_validation'] # directories for training, testing and valdiation\n",
    "sheet = 'Gaze Data' # name of sheet with the eye tracking data\n",
    "\n",
    "column_names = ['Type', 'Timestamp', 'Data_Gaze2D_X', 'Data_Gaze2D_Y', 'Data_Gaze3D_X',\n",
    "       'Data_Gaze3D_Y', 'Data_Gaze3D_Z', 'Data_Eyeleft_Gazeorigin_X',\n",
    "       'Data_Eyeleft_Gazeorigin_Y', 'Data_Eyeleft_Gazeorigin_Z',\n",
    "       'Data_Eyeleft_Gazedirection_X', 'Data_Eyeleft_Gazedirection_Y',\n",
    "       'Data_Eyeleft_Gazedirection_Z', 'Data_Eyeleft_Pupildiameter',\n",
    "       'Data_Eyeright_Gazeorigin_X', 'Data_Eyeright_Gazeorigin_Y',\n",
    "       'Data_Eyeright_Gazeorigin_Z', 'Data_Eyeright_Gazedirection_X',\n",
    "       'Data_Eyeright_Gazedirection_Y', 'Data_Eyeright_Gazedirection_Z',\n",
    "       'Data_Eyeright_Pupildiameter']\n",
    "\n",
    "# createempty dataframe variables\n",
    "df_train = None\n",
    "df_test = None\n",
    "df_validation = None"
   ]
  },
  {
   "cell_type": "markdown",
   "metadata": {},
   "source": [
    "## Create Spark Session"
   ]
  },
  {
   "cell_type": "code",
   "execution_count": 48,
   "metadata": {},
   "outputs": [],
   "source": [
    "# creat ethe spark session with 4 cores and 20Gb of usable memory\n",
    "spark = SparkSession.builder.appName(\"Cis6180_FinalProject\").config(\"spark.driver.marResultSize\", \"48g\").config(\"spark.driver.memory\", \"48g\").config(\"spark.executor.memory\", \"48g\").config(\"spark.executor.cores\", 8).getOrCreate()"
   ]
  },
  {
   "cell_type": "markdown",
   "metadata": {},
   "source": [
    "## Create List of Files to Import"
   ]
  },
  {
   "cell_type": "code",
   "execution_count": 49,
   "metadata": {},
   "outputs": [
    {
     "name": "stdout",
     "output_type": "stream",
     "text": [
      "73\n"
     ]
    }
   ],
   "source": [
    "file_list = []\n",
    "\n",
    "# iterate through all the files in the dataset to ge\n",
    "for ds_num,dataset in enumerate(datasets):\n",
    "    data_files = listdir(dataset)\n",
    "    for f_num,f in enumerate(data_files):\n",
    "        file_path = dataset + '/' + f # file path is the relative file path for the current excel file\n",
    "        file_list.append((file_path,ds_num))\n",
    "\n",
    "print(len(file_list))"
   ]
  },
  {
   "cell_type": "markdown",
   "metadata": {},
   "source": [
    "## Iterate Through All Files to Read into DataFrames"
   ]
  },
  {
   "cell_type": "code",
   "execution_count": 51,
   "metadata": {},
   "outputs": [
    {
     "name": "stdout",
     "output_type": "stream",
     "text": [
      "File: 1/73 dataset_training/eye-data-10327.xlsx\n"
     ]
    },
    {
     "name": "stderr",
     "output_type": "stream",
     "text": [
      "C:\\Users\\01eco\\AppData\\Local\\Temp\\ipykernel_25708\\429507768.py:11: FutureWarning: DataFrame.interpolate with object dtype is deprecated and will raise in a future version. Call obj.infer_objects(copy=False) before interpolating instead.\n",
      "  ppdf = ppdf.interpolate(method='linear',limit_direction='both')\n",
      "c:\\Users\\01eco\\AppData\\Local\\Programs\\Python\\Python312\\Lib\\site-packages\\pyspark\\pandas\\frame.py:8890: FutureWarning: The DataFrame.append method is deprecated and will be removed in 4.0.0. Use pyspark.pandas.concat instead.\n",
      "  warnings.warn(\n"
     ]
    },
    {
     "name": "stdout",
     "output_type": "stream",
     "text": [
      "File: 2/73 dataset_training/eye-data-12471.xlsx\n"
     ]
    },
    {
     "name": "stderr",
     "output_type": "stream",
     "text": [
      "C:\\Users\\01eco\\AppData\\Local\\Temp\\ipykernel_25708\\429507768.py:11: FutureWarning: DataFrame.interpolate with object dtype is deprecated and will raise in a future version. Call obj.infer_objects(copy=False) before interpolating instead.\n",
      "  ppdf = ppdf.interpolate(method='linear',limit_direction='both')\n",
      "c:\\Users\\01eco\\AppData\\Local\\Programs\\Python\\Python312\\Lib\\site-packages\\pyspark\\pandas\\frame.py:8890: FutureWarning: The DataFrame.append method is deprecated and will be removed in 4.0.0. Use pyspark.pandas.concat instead.\n",
      "  warnings.warn(\n"
     ]
    },
    {
     "name": "stdout",
     "output_type": "stream",
     "text": [
      "File: 3/73 dataset_training/eye-data-18514.xlsx\n"
     ]
    },
    {
     "name": "stderr",
     "output_type": "stream",
     "text": [
      "C:\\Users\\01eco\\AppData\\Local\\Temp\\ipykernel_25708\\429507768.py:11: FutureWarning: DataFrame.interpolate with object dtype is deprecated and will raise in a future version. Call obj.infer_objects(copy=False) before interpolating instead.\n",
      "  ppdf = ppdf.interpolate(method='linear',limit_direction='both')\n",
      "c:\\Users\\01eco\\AppData\\Local\\Programs\\Python\\Python312\\Lib\\site-packages\\pyspark\\pandas\\frame.py:8890: FutureWarning: The DataFrame.append method is deprecated and will be removed in 4.0.0. Use pyspark.pandas.concat instead.\n",
      "  warnings.warn(\n"
     ]
    },
    {
     "name": "stdout",
     "output_type": "stream",
     "text": [
      "File: 4/73 dataset_training/eye-data-20116.xlsx\n"
     ]
    },
    {
     "name": "stderr",
     "output_type": "stream",
     "text": [
      "C:\\Users\\01eco\\AppData\\Local\\Temp\\ipykernel_25708\\429507768.py:11: FutureWarning: DataFrame.interpolate with object dtype is deprecated and will raise in a future version. Call obj.infer_objects(copy=False) before interpolating instead.\n",
      "  ppdf = ppdf.interpolate(method='linear',limit_direction='both')\n",
      "c:\\Users\\01eco\\AppData\\Local\\Programs\\Python\\Python312\\Lib\\site-packages\\pyspark\\pandas\\frame.py:8890: FutureWarning: The DataFrame.append method is deprecated and will be removed in 4.0.0. Use pyspark.pandas.concat instead.\n",
      "  warnings.warn(\n"
     ]
    },
    {
     "name": "stdout",
     "output_type": "stream",
     "text": [
      "File: 5/73 dataset_training/eye-data-21051.xlsx\n"
     ]
    },
    {
     "name": "stderr",
     "output_type": "stream",
     "text": [
      "C:\\Users\\01eco\\AppData\\Local\\Temp\\ipykernel_25708\\429507768.py:11: FutureWarning: DataFrame.interpolate with object dtype is deprecated and will raise in a future version. Call obj.infer_objects(copy=False) before interpolating instead.\n",
      "  ppdf = ppdf.interpolate(method='linear',limit_direction='both')\n",
      "c:\\Users\\01eco\\AppData\\Local\\Programs\\Python\\Python312\\Lib\\site-packages\\pyspark\\pandas\\frame.py:8890: FutureWarning: The DataFrame.append method is deprecated and will be removed in 4.0.0. Use pyspark.pandas.concat instead.\n",
      "  warnings.warn(\n"
     ]
    },
    {
     "name": "stdout",
     "output_type": "stream",
     "text": [
      "File: 6/73 dataset_training/eye-data-21895.xlsx\n"
     ]
    },
    {
     "name": "stderr",
     "output_type": "stream",
     "text": [
      "C:\\Users\\01eco\\AppData\\Local\\Temp\\ipykernel_25708\\429507768.py:11: FutureWarning: DataFrame.interpolate with object dtype is deprecated and will raise in a future version. Call obj.infer_objects(copy=False) before interpolating instead.\n",
      "  ppdf = ppdf.interpolate(method='linear',limit_direction='both')\n",
      "c:\\Users\\01eco\\AppData\\Local\\Programs\\Python\\Python312\\Lib\\site-packages\\pyspark\\pandas\\frame.py:8890: FutureWarning: The DataFrame.append method is deprecated and will be removed in 4.0.0. Use pyspark.pandas.concat instead.\n",
      "  warnings.warn(\n"
     ]
    },
    {
     "name": "stdout",
     "output_type": "stream",
     "text": [
      "File: 7/73 dataset_training/eye-data-22013.xlsx\n"
     ]
    },
    {
     "name": "stderr",
     "output_type": "stream",
     "text": [
      "C:\\Users\\01eco\\AppData\\Local\\Temp\\ipykernel_25708\\429507768.py:11: FutureWarning: DataFrame.interpolate with object dtype is deprecated and will raise in a future version. Call obj.infer_objects(copy=False) before interpolating instead.\n",
      "  ppdf = ppdf.interpolate(method='linear',limit_direction='both')\n",
      "c:\\Users\\01eco\\AppData\\Local\\Programs\\Python\\Python312\\Lib\\site-packages\\pyspark\\pandas\\frame.py:8890: FutureWarning: The DataFrame.append method is deprecated and will be removed in 4.0.0. Use pyspark.pandas.concat instead.\n",
      "  warnings.warn(\n"
     ]
    },
    {
     "name": "stdout",
     "output_type": "stream",
     "text": [
      "File: 8/73 dataset_training/eye-data-23090.xlsx\n"
     ]
    },
    {
     "name": "stderr",
     "output_type": "stream",
     "text": [
      "C:\\Users\\01eco\\AppData\\Local\\Temp\\ipykernel_25708\\429507768.py:11: FutureWarning: DataFrame.interpolate with object dtype is deprecated and will raise in a future version. Call obj.infer_objects(copy=False) before interpolating instead.\n",
      "  ppdf = ppdf.interpolate(method='linear',limit_direction='both')\n",
      "c:\\Users\\01eco\\AppData\\Local\\Programs\\Python\\Python312\\Lib\\site-packages\\pyspark\\pandas\\frame.py:8890: FutureWarning: The DataFrame.append method is deprecated and will be removed in 4.0.0. Use pyspark.pandas.concat instead.\n",
      "  warnings.warn(\n"
     ]
    },
    {
     "name": "stdout",
     "output_type": "stream",
     "text": [
      "File: 9/73 dataset_training/eye-data-23753.xlsx\n"
     ]
    },
    {
     "name": "stderr",
     "output_type": "stream",
     "text": [
      "C:\\Users\\01eco\\AppData\\Local\\Temp\\ipykernel_25708\\429507768.py:11: FutureWarning: DataFrame.interpolate with object dtype is deprecated and will raise in a future version. Call obj.infer_objects(copy=False) before interpolating instead.\n",
      "  ppdf = ppdf.interpolate(method='linear',limit_direction='both')\n",
      "c:\\Users\\01eco\\AppData\\Local\\Programs\\Python\\Python312\\Lib\\site-packages\\pyspark\\pandas\\frame.py:8890: FutureWarning: The DataFrame.append method is deprecated and will be removed in 4.0.0. Use pyspark.pandas.concat instead.\n",
      "  warnings.warn(\n"
     ]
    },
    {
     "name": "stdout",
     "output_type": "stream",
     "text": [
      "File: 10/73 dataset_training/eye-data-25462.xlsx\n"
     ]
    },
    {
     "name": "stderr",
     "output_type": "stream",
     "text": [
      "C:\\Users\\01eco\\AppData\\Local\\Temp\\ipykernel_25708\\429507768.py:11: FutureWarning: DataFrame.interpolate with object dtype is deprecated and will raise in a future version. Call obj.infer_objects(copy=False) before interpolating instead.\n",
      "  ppdf = ppdf.interpolate(method='linear',limit_direction='both')\n",
      "c:\\Users\\01eco\\AppData\\Local\\Programs\\Python\\Python312\\Lib\\site-packages\\pyspark\\pandas\\frame.py:8890: FutureWarning: The DataFrame.append method is deprecated and will be removed in 4.0.0. Use pyspark.pandas.concat instead.\n",
      "  warnings.warn(\n"
     ]
    },
    {
     "name": "stdout",
     "output_type": "stream",
     "text": [
      "File: 11/73 dataset_training/eye-data-26370.xlsx\n"
     ]
    },
    {
     "name": "stderr",
     "output_type": "stream",
     "text": [
      "C:\\Users\\01eco\\AppData\\Local\\Temp\\ipykernel_25708\\429507768.py:11: FutureWarning: DataFrame.interpolate with object dtype is deprecated and will raise in a future version. Call obj.infer_objects(copy=False) before interpolating instead.\n",
      "  ppdf = ppdf.interpolate(method='linear',limit_direction='both')\n",
      "c:\\Users\\01eco\\AppData\\Local\\Programs\\Python\\Python312\\Lib\\site-packages\\pyspark\\pandas\\frame.py:8890: FutureWarning: The DataFrame.append method is deprecated and will be removed in 4.0.0. Use pyspark.pandas.concat instead.\n",
      "  warnings.warn(\n"
     ]
    },
    {
     "name": "stdout",
     "output_type": "stream",
     "text": [
      "File: 12/73 dataset_training/eye-data-28334.xlsx\n"
     ]
    },
    {
     "name": "stderr",
     "output_type": "stream",
     "text": [
      "C:\\Users\\01eco\\AppData\\Local\\Temp\\ipykernel_25708\\429507768.py:11: FutureWarning: DataFrame.interpolate with object dtype is deprecated and will raise in a future version. Call obj.infer_objects(copy=False) before interpolating instead.\n",
      "  ppdf = ppdf.interpolate(method='linear',limit_direction='both')\n",
      "c:\\Users\\01eco\\AppData\\Local\\Programs\\Python\\Python312\\Lib\\site-packages\\pyspark\\pandas\\frame.py:8890: FutureWarning: The DataFrame.append method is deprecated and will be removed in 4.0.0. Use pyspark.pandas.concat instead.\n",
      "  warnings.warn(\n"
     ]
    },
    {
     "name": "stdout",
     "output_type": "stream",
     "text": [
      "File: 13/73 dataset_training/eye-data-29048.xlsx\n"
     ]
    },
    {
     "name": "stderr",
     "output_type": "stream",
     "text": [
      "C:\\Users\\01eco\\AppData\\Local\\Temp\\ipykernel_25708\\429507768.py:11: FutureWarning: DataFrame.interpolate with object dtype is deprecated and will raise in a future version. Call obj.infer_objects(copy=False) before interpolating instead.\n",
      "  ppdf = ppdf.interpolate(method='linear',limit_direction='both')\n",
      "c:\\Users\\01eco\\AppData\\Local\\Programs\\Python\\Python312\\Lib\\site-packages\\pyspark\\pandas\\frame.py:8890: FutureWarning: The DataFrame.append method is deprecated and will be removed in 4.0.0. Use pyspark.pandas.concat instead.\n",
      "  warnings.warn(\n"
     ]
    },
    {
     "name": "stdout",
     "output_type": "stream",
     "text": [
      "File: 14/73 dataset_training/eye-data-34473.xlsx\n"
     ]
    },
    {
     "name": "stderr",
     "output_type": "stream",
     "text": [
      "C:\\Users\\01eco\\AppData\\Local\\Temp\\ipykernel_25708\\429507768.py:11: FutureWarning: DataFrame.interpolate with object dtype is deprecated and will raise in a future version. Call obj.infer_objects(copy=False) before interpolating instead.\n",
      "  ppdf = ppdf.interpolate(method='linear',limit_direction='both')\n",
      "c:\\Users\\01eco\\AppData\\Local\\Programs\\Python\\Python312\\Lib\\site-packages\\pyspark\\pandas\\frame.py:8890: FutureWarning: The DataFrame.append method is deprecated and will be removed in 4.0.0. Use pyspark.pandas.concat instead.\n",
      "  warnings.warn(\n"
     ]
    },
    {
     "name": "stdout",
     "output_type": "stream",
     "text": [
      "File: 15/73 dataset_training/eye-data-35217.xlsx\n"
     ]
    },
    {
     "name": "stderr",
     "output_type": "stream",
     "text": [
      "C:\\Users\\01eco\\AppData\\Local\\Temp\\ipykernel_25708\\429507768.py:11: FutureWarning: DataFrame.interpolate with object dtype is deprecated and will raise in a future version. Call obj.infer_objects(copy=False) before interpolating instead.\n",
      "  ppdf = ppdf.interpolate(method='linear',limit_direction='both')\n",
      "c:\\Users\\01eco\\AppData\\Local\\Programs\\Python\\Python312\\Lib\\site-packages\\pyspark\\pandas\\frame.py:8890: FutureWarning: The DataFrame.append method is deprecated and will be removed in 4.0.0. Use pyspark.pandas.concat instead.\n",
      "  warnings.warn(\n"
     ]
    },
    {
     "name": "stdout",
     "output_type": "stream",
     "text": [
      "File: 16/73 dataset_training/eye-data-35745.xlsx\n"
     ]
    },
    {
     "name": "stderr",
     "output_type": "stream",
     "text": [
      "C:\\Users\\01eco\\AppData\\Local\\Temp\\ipykernel_25708\\429507768.py:11: FutureWarning: DataFrame.interpolate with object dtype is deprecated and will raise in a future version. Call obj.infer_objects(copy=False) before interpolating instead.\n",
      "  ppdf = ppdf.interpolate(method='linear',limit_direction='both')\n",
      "c:\\Users\\01eco\\AppData\\Local\\Programs\\Python\\Python312\\Lib\\site-packages\\pyspark\\pandas\\frame.py:8890: FutureWarning: The DataFrame.append method is deprecated and will be removed in 4.0.0. Use pyspark.pandas.concat instead.\n",
      "  warnings.warn(\n"
     ]
    },
    {
     "name": "stdout",
     "output_type": "stream",
     "text": [
      "File: 17/73 dataset_training/eye-data-41517.xlsx\n"
     ]
    },
    {
     "name": "stderr",
     "output_type": "stream",
     "text": [
      "C:\\Users\\01eco\\AppData\\Local\\Temp\\ipykernel_25708\\429507768.py:11: FutureWarning: DataFrame.interpolate with object dtype is deprecated and will raise in a future version. Call obj.infer_objects(copy=False) before interpolating instead.\n",
      "  ppdf = ppdf.interpolate(method='linear',limit_direction='both')\n",
      "c:\\Users\\01eco\\AppData\\Local\\Programs\\Python\\Python312\\Lib\\site-packages\\pyspark\\pandas\\frame.py:8890: FutureWarning: The DataFrame.append method is deprecated and will be removed in 4.0.0. Use pyspark.pandas.concat instead.\n",
      "  warnings.warn(\n"
     ]
    },
    {
     "name": "stdout",
     "output_type": "stream",
     "text": [
      "File: 18/73 dataset_training/eye-data-46121.xlsx\n"
     ]
    },
    {
     "name": "stderr",
     "output_type": "stream",
     "text": [
      "C:\\Users\\01eco\\AppData\\Local\\Temp\\ipykernel_25708\\429507768.py:11: FutureWarning: DataFrame.interpolate with object dtype is deprecated and will raise in a future version. Call obj.infer_objects(copy=False) before interpolating instead.\n",
      "  ppdf = ppdf.interpolate(method='linear',limit_direction='both')\n",
      "c:\\Users\\01eco\\AppData\\Local\\Programs\\Python\\Python312\\Lib\\site-packages\\pyspark\\pandas\\frame.py:8890: FutureWarning: The DataFrame.append method is deprecated and will be removed in 4.0.0. Use pyspark.pandas.concat instead.\n",
      "  warnings.warn(\n"
     ]
    },
    {
     "name": "stdout",
     "output_type": "stream",
     "text": [
      "File: 19/73 dataset_training/eye-data-46307.xlsx\n"
     ]
    },
    {
     "name": "stderr",
     "output_type": "stream",
     "text": [
      "C:\\Users\\01eco\\AppData\\Local\\Temp\\ipykernel_25708\\429507768.py:11: FutureWarning: DataFrame.interpolate with object dtype is deprecated and will raise in a future version. Call obj.infer_objects(copy=False) before interpolating instead.\n",
      "  ppdf = ppdf.interpolate(method='linear',limit_direction='both')\n",
      "c:\\Users\\01eco\\AppData\\Local\\Programs\\Python\\Python312\\Lib\\site-packages\\pyspark\\pandas\\frame.py:8890: FutureWarning: The DataFrame.append method is deprecated and will be removed in 4.0.0. Use pyspark.pandas.concat instead.\n",
      "  warnings.warn(\n"
     ]
    },
    {
     "name": "stdout",
     "output_type": "stream",
     "text": [
      "File: 20/73 dataset_training/eye-data-47274.xlsx\n"
     ]
    },
    {
     "name": "stderr",
     "output_type": "stream",
     "text": [
      "C:\\Users\\01eco\\AppData\\Local\\Temp\\ipykernel_25708\\429507768.py:11: FutureWarning: DataFrame.interpolate with object dtype is deprecated and will raise in a future version. Call obj.infer_objects(copy=False) before interpolating instead.\n",
      "  ppdf = ppdf.interpolate(method='linear',limit_direction='both')\n",
      "c:\\Users\\01eco\\AppData\\Local\\Programs\\Python\\Python312\\Lib\\site-packages\\pyspark\\pandas\\frame.py:8890: FutureWarning: The DataFrame.append method is deprecated and will be removed in 4.0.0. Use pyspark.pandas.concat instead.\n",
      "  warnings.warn(\n"
     ]
    },
    {
     "name": "stdout",
     "output_type": "stream",
     "text": [
      "File: 21/73 dataset_training/eye-data-47402.xlsx\n"
     ]
    },
    {
     "name": "stderr",
     "output_type": "stream",
     "text": [
      "C:\\Users\\01eco\\AppData\\Local\\Temp\\ipykernel_25708\\429507768.py:11: FutureWarning: DataFrame.interpolate with object dtype is deprecated and will raise in a future version. Call obj.infer_objects(copy=False) before interpolating instead.\n",
      "  ppdf = ppdf.interpolate(method='linear',limit_direction='both')\n",
      "c:\\Users\\01eco\\AppData\\Local\\Programs\\Python\\Python312\\Lib\\site-packages\\pyspark\\pandas\\frame.py:8890: FutureWarning: The DataFrame.append method is deprecated and will be removed in 4.0.0. Use pyspark.pandas.concat instead.\n",
      "  warnings.warn(\n"
     ]
    },
    {
     "name": "stdout",
     "output_type": "stream",
     "text": [
      "File: 22/73 dataset_training/eye-data-48737.xlsx\n"
     ]
    },
    {
     "name": "stderr",
     "output_type": "stream",
     "text": [
      "C:\\Users\\01eco\\AppData\\Local\\Temp\\ipykernel_25708\\429507768.py:11: FutureWarning: DataFrame.interpolate with object dtype is deprecated and will raise in a future version. Call obj.infer_objects(copy=False) before interpolating instead.\n",
      "  ppdf = ppdf.interpolate(method='linear',limit_direction='both')\n",
      "c:\\Users\\01eco\\AppData\\Local\\Programs\\Python\\Python312\\Lib\\site-packages\\pyspark\\pandas\\frame.py:8890: FutureWarning: The DataFrame.append method is deprecated and will be removed in 4.0.0. Use pyspark.pandas.concat instead.\n",
      "  warnings.warn(\n"
     ]
    },
    {
     "name": "stdout",
     "output_type": "stream",
     "text": [
      "File: 23/73 dataset_training/eye-data-51637.xlsx\n"
     ]
    },
    {
     "name": "stderr",
     "output_type": "stream",
     "text": [
      "C:\\Users\\01eco\\AppData\\Local\\Temp\\ipykernel_25708\\429507768.py:11: FutureWarning: DataFrame.interpolate with object dtype is deprecated and will raise in a future version. Call obj.infer_objects(copy=False) before interpolating instead.\n",
      "  ppdf = ppdf.interpolate(method='linear',limit_direction='both')\n",
      "c:\\Users\\01eco\\AppData\\Local\\Programs\\Python\\Python312\\Lib\\site-packages\\pyspark\\pandas\\frame.py:8890: FutureWarning: The DataFrame.append method is deprecated and will be removed in 4.0.0. Use pyspark.pandas.concat instead.\n",
      "  warnings.warn(\n"
     ]
    },
    {
     "name": "stdout",
     "output_type": "stream",
     "text": [
      "File: 24/73 dataset_training/eye-data-52063.xlsx\n"
     ]
    },
    {
     "name": "stderr",
     "output_type": "stream",
     "text": [
      "C:\\Users\\01eco\\AppData\\Local\\Temp\\ipykernel_25708\\429507768.py:11: FutureWarning: DataFrame.interpolate with object dtype is deprecated and will raise in a future version. Call obj.infer_objects(copy=False) before interpolating instead.\n",
      "  ppdf = ppdf.interpolate(method='linear',limit_direction='both')\n",
      "c:\\Users\\01eco\\AppData\\Local\\Programs\\Python\\Python312\\Lib\\site-packages\\pyspark\\pandas\\frame.py:8890: FutureWarning: The DataFrame.append method is deprecated and will be removed in 4.0.0. Use pyspark.pandas.concat instead.\n",
      "  warnings.warn(\n"
     ]
    },
    {
     "name": "stdout",
     "output_type": "stream",
     "text": [
      "File: 25/73 dataset_training/eye-data-53209.xlsx\n"
     ]
    },
    {
     "name": "stderr",
     "output_type": "stream",
     "text": [
      "C:\\Users\\01eco\\AppData\\Local\\Temp\\ipykernel_25708\\429507768.py:11: FutureWarning: DataFrame.interpolate with object dtype is deprecated and will raise in a future version. Call obj.infer_objects(copy=False) before interpolating instead.\n",
      "  ppdf = ppdf.interpolate(method='linear',limit_direction='both')\n",
      "c:\\Users\\01eco\\AppData\\Local\\Programs\\Python\\Python312\\Lib\\site-packages\\pyspark\\pandas\\frame.py:8890: FutureWarning: The DataFrame.append method is deprecated and will be removed in 4.0.0. Use pyspark.pandas.concat instead.\n",
      "  warnings.warn(\n"
     ]
    },
    {
     "name": "stdout",
     "output_type": "stream",
     "text": [
      "File: 26/73 dataset_training/eye-data-53349.xlsx\n"
     ]
    },
    {
     "name": "stderr",
     "output_type": "stream",
     "text": [
      "C:\\Users\\01eco\\AppData\\Local\\Temp\\ipykernel_25708\\429507768.py:11: FutureWarning: DataFrame.interpolate with object dtype is deprecated and will raise in a future version. Call obj.infer_objects(copy=False) before interpolating instead.\n",
      "  ppdf = ppdf.interpolate(method='linear',limit_direction='both')\n",
      "c:\\Users\\01eco\\AppData\\Local\\Programs\\Python\\Python312\\Lib\\site-packages\\pyspark\\pandas\\frame.py:8890: FutureWarning: The DataFrame.append method is deprecated and will be removed in 4.0.0. Use pyspark.pandas.concat instead.\n",
      "  warnings.warn(\n"
     ]
    },
    {
     "name": "stdout",
     "output_type": "stream",
     "text": [
      "File: 27/73 dataset_training/eye-data-54455.xlsx\n"
     ]
    },
    {
     "name": "stderr",
     "output_type": "stream",
     "text": [
      "C:\\Users\\01eco\\AppData\\Local\\Temp\\ipykernel_25708\\429507768.py:11: FutureWarning: DataFrame.interpolate with object dtype is deprecated and will raise in a future version. Call obj.infer_objects(copy=False) before interpolating instead.\n",
      "  ppdf = ppdf.interpolate(method='linear',limit_direction='both')\n",
      "c:\\Users\\01eco\\AppData\\Local\\Programs\\Python\\Python312\\Lib\\site-packages\\pyspark\\pandas\\frame.py:8890: FutureWarning: The DataFrame.append method is deprecated and will be removed in 4.0.0. Use pyspark.pandas.concat instead.\n",
      "  warnings.warn(\n"
     ]
    },
    {
     "name": "stdout",
     "output_type": "stream",
     "text": [
      "File: 28/73 dataset_training/eye-data-55367.xlsx\n"
     ]
    },
    {
     "name": "stderr",
     "output_type": "stream",
     "text": [
      "C:\\Users\\01eco\\AppData\\Local\\Temp\\ipykernel_25708\\429507768.py:11: FutureWarning: DataFrame.interpolate with object dtype is deprecated and will raise in a future version. Call obj.infer_objects(copy=False) before interpolating instead.\n",
      "  ppdf = ppdf.interpolate(method='linear',limit_direction='both')\n",
      "c:\\Users\\01eco\\AppData\\Local\\Programs\\Python\\Python312\\Lib\\site-packages\\pyspark\\pandas\\frame.py:8890: FutureWarning: The DataFrame.append method is deprecated and will be removed in 4.0.0. Use pyspark.pandas.concat instead.\n",
      "  warnings.warn(\n"
     ]
    },
    {
     "name": "stdout",
     "output_type": "stream",
     "text": [
      "File: 29/73 dataset_training/eye-data-55746.xlsx\n"
     ]
    },
    {
     "name": "stderr",
     "output_type": "stream",
     "text": [
      "C:\\Users\\01eco\\AppData\\Local\\Temp\\ipykernel_25708\\429507768.py:11: FutureWarning: DataFrame.interpolate with object dtype is deprecated and will raise in a future version. Call obj.infer_objects(copy=False) before interpolating instead.\n",
      "  ppdf = ppdf.interpolate(method='linear',limit_direction='both')\n",
      "c:\\Users\\01eco\\AppData\\Local\\Programs\\Python\\Python312\\Lib\\site-packages\\pyspark\\pandas\\frame.py:8890: FutureWarning: The DataFrame.append method is deprecated and will be removed in 4.0.0. Use pyspark.pandas.concat instead.\n",
      "  warnings.warn(\n"
     ]
    },
    {
     "name": "stdout",
     "output_type": "stream",
     "text": [
      "File: 30/73 dataset_training/eye-data-56135.xlsx\n"
     ]
    },
    {
     "name": "stderr",
     "output_type": "stream",
     "text": [
      "C:\\Users\\01eco\\AppData\\Local\\Temp\\ipykernel_25708\\429507768.py:11: FutureWarning: DataFrame.interpolate with object dtype is deprecated and will raise in a future version. Call obj.infer_objects(copy=False) before interpolating instead.\n",
      "  ppdf = ppdf.interpolate(method='linear',limit_direction='both')\n",
      "c:\\Users\\01eco\\AppData\\Local\\Programs\\Python\\Python312\\Lib\\site-packages\\pyspark\\pandas\\frame.py:8890: FutureWarning: The DataFrame.append method is deprecated and will be removed in 4.0.0. Use pyspark.pandas.concat instead.\n",
      "  warnings.warn(\n"
     ]
    },
    {
     "name": "stdout",
     "output_type": "stream",
     "text": [
      "File: 31/73 dataset_training/eye-data-56233.xlsx\n"
     ]
    },
    {
     "name": "stderr",
     "output_type": "stream",
     "text": [
      "C:\\Users\\01eco\\AppData\\Local\\Temp\\ipykernel_25708\\429507768.py:11: FutureWarning: DataFrame.interpolate with object dtype is deprecated and will raise in a future version. Call obj.infer_objects(copy=False) before interpolating instead.\n",
      "  ppdf = ppdf.interpolate(method='linear',limit_direction='both')\n",
      "c:\\Users\\01eco\\AppData\\Local\\Programs\\Python\\Python312\\Lib\\site-packages\\pyspark\\pandas\\frame.py:8890: FutureWarning: The DataFrame.append method is deprecated and will be removed in 4.0.0. Use pyspark.pandas.concat instead.\n",
      "  warnings.warn(\n"
     ]
    },
    {
     "name": "stdout",
     "output_type": "stream",
     "text": [
      "File: 32/73 dataset_training/eye-data-59774.xlsx\n"
     ]
    },
    {
     "name": "stderr",
     "output_type": "stream",
     "text": [
      "C:\\Users\\01eco\\AppData\\Local\\Temp\\ipykernel_25708\\429507768.py:11: FutureWarning: DataFrame.interpolate with object dtype is deprecated and will raise in a future version. Call obj.infer_objects(copy=False) before interpolating instead.\n",
      "  ppdf = ppdf.interpolate(method='linear',limit_direction='both')\n",
      "c:\\Users\\01eco\\AppData\\Local\\Programs\\Python\\Python312\\Lib\\site-packages\\pyspark\\pandas\\frame.py:8890: FutureWarning: The DataFrame.append method is deprecated and will be removed in 4.0.0. Use pyspark.pandas.concat instead.\n",
      "  warnings.warn(\n"
     ]
    },
    {
     "name": "stdout",
     "output_type": "stream",
     "text": [
      "File: 33/73 dataset_training/eye-data-63923.xlsx\n"
     ]
    },
    {
     "name": "stderr",
     "output_type": "stream",
     "text": [
      "C:\\Users\\01eco\\AppData\\Local\\Temp\\ipykernel_25708\\429507768.py:11: FutureWarning: DataFrame.interpolate with object dtype is deprecated and will raise in a future version. Call obj.infer_objects(copy=False) before interpolating instead.\n",
      "  ppdf = ppdf.interpolate(method='linear',limit_direction='both')\n",
      "c:\\Users\\01eco\\AppData\\Local\\Programs\\Python\\Python312\\Lib\\site-packages\\pyspark\\pandas\\frame.py:8890: FutureWarning: The DataFrame.append method is deprecated and will be removed in 4.0.0. Use pyspark.pandas.concat instead.\n",
      "  warnings.warn(\n"
     ]
    },
    {
     "name": "stdout",
     "output_type": "stream",
     "text": [
      "File: 34/73 dataset_training/eye-data-64765.xlsx\n"
     ]
    },
    {
     "name": "stderr",
     "output_type": "stream",
     "text": [
      "C:\\Users\\01eco\\AppData\\Local\\Temp\\ipykernel_25708\\429507768.py:11: FutureWarning: DataFrame.interpolate with object dtype is deprecated and will raise in a future version. Call obj.infer_objects(copy=False) before interpolating instead.\n",
      "  ppdf = ppdf.interpolate(method='linear',limit_direction='both')\n",
      "c:\\Users\\01eco\\AppData\\Local\\Programs\\Python\\Python312\\Lib\\site-packages\\pyspark\\pandas\\frame.py:8890: FutureWarning: The DataFrame.append method is deprecated and will be removed in 4.0.0. Use pyspark.pandas.concat instead.\n",
      "  warnings.warn(\n"
     ]
    },
    {
     "name": "stdout",
     "output_type": "stream",
     "text": [
      "File: 35/73 dataset_training/eye-data-69876.xlsx\n"
     ]
    },
    {
     "name": "stderr",
     "output_type": "stream",
     "text": [
      "C:\\Users\\01eco\\AppData\\Local\\Temp\\ipykernel_25708\\429507768.py:11: FutureWarning: DataFrame.interpolate with object dtype is deprecated and will raise in a future version. Call obj.infer_objects(copy=False) before interpolating instead.\n",
      "  ppdf = ppdf.interpolate(method='linear',limit_direction='both')\n",
      "c:\\Users\\01eco\\AppData\\Local\\Programs\\Python\\Python312\\Lib\\site-packages\\pyspark\\pandas\\frame.py:8890: FutureWarning: The DataFrame.append method is deprecated and will be removed in 4.0.0. Use pyspark.pandas.concat instead.\n",
      "  warnings.warn(\n"
     ]
    },
    {
     "name": "stdout",
     "output_type": "stream",
     "text": [
      "File: 36/73 dataset_training/eye-data-70253.xlsx\n"
     ]
    },
    {
     "name": "stderr",
     "output_type": "stream",
     "text": [
      "C:\\Users\\01eco\\AppData\\Local\\Temp\\ipykernel_25708\\429507768.py:11: FutureWarning: DataFrame.interpolate with object dtype is deprecated and will raise in a future version. Call obj.infer_objects(copy=False) before interpolating instead.\n",
      "  ppdf = ppdf.interpolate(method='linear',limit_direction='both')\n",
      "c:\\Users\\01eco\\AppData\\Local\\Programs\\Python\\Python312\\Lib\\site-packages\\pyspark\\pandas\\frame.py:8890: FutureWarning: The DataFrame.append method is deprecated and will be removed in 4.0.0. Use pyspark.pandas.concat instead.\n",
      "  warnings.warn(\n"
     ]
    },
    {
     "name": "stdout",
     "output_type": "stream",
     "text": [
      "File: 37/73 dataset_training/eye-data-70615.xlsx\n"
     ]
    },
    {
     "name": "stderr",
     "output_type": "stream",
     "text": [
      "C:\\Users\\01eco\\AppData\\Local\\Temp\\ipykernel_25708\\429507768.py:11: FutureWarning: DataFrame.interpolate with object dtype is deprecated and will raise in a future version. Call obj.infer_objects(copy=False) before interpolating instead.\n",
      "  ppdf = ppdf.interpolate(method='linear',limit_direction='both')\n",
      "c:\\Users\\01eco\\AppData\\Local\\Programs\\Python\\Python312\\Lib\\site-packages\\pyspark\\pandas\\frame.py:8890: FutureWarning: The DataFrame.append method is deprecated and will be removed in 4.0.0. Use pyspark.pandas.concat instead.\n",
      "  warnings.warn(\n"
     ]
    },
    {
     "name": "stdout",
     "output_type": "stream",
     "text": [
      "File: 38/73 dataset_training/eye-data-71291.xlsx\n"
     ]
    },
    {
     "name": "stderr",
     "output_type": "stream",
     "text": [
      "C:\\Users\\01eco\\AppData\\Local\\Temp\\ipykernel_25708\\429507768.py:11: FutureWarning: DataFrame.interpolate with object dtype is deprecated and will raise in a future version. Call obj.infer_objects(copy=False) before interpolating instead.\n",
      "  ppdf = ppdf.interpolate(method='linear',limit_direction='both')\n",
      "c:\\Users\\01eco\\AppData\\Local\\Programs\\Python\\Python312\\Lib\\site-packages\\pyspark\\pandas\\frame.py:8890: FutureWarning: The DataFrame.append method is deprecated and will be removed in 4.0.0. Use pyspark.pandas.concat instead.\n",
      "  warnings.warn(\n"
     ]
    },
    {
     "name": "stdout",
     "output_type": "stream",
     "text": [
      "File: 39/73 dataset_training/eye-data-76001.xlsx\n"
     ]
    },
    {
     "name": "stderr",
     "output_type": "stream",
     "text": [
      "C:\\Users\\01eco\\AppData\\Local\\Temp\\ipykernel_25708\\429507768.py:11: FutureWarning: DataFrame.interpolate with object dtype is deprecated and will raise in a future version. Call obj.infer_objects(copy=False) before interpolating instead.\n",
      "  ppdf = ppdf.interpolate(method='linear',limit_direction='both')\n",
      "c:\\Users\\01eco\\AppData\\Local\\Programs\\Python\\Python312\\Lib\\site-packages\\pyspark\\pandas\\frame.py:8890: FutureWarning: The DataFrame.append method is deprecated and will be removed in 4.0.0. Use pyspark.pandas.concat instead.\n",
      "  warnings.warn(\n"
     ]
    },
    {
     "name": "stdout",
     "output_type": "stream",
     "text": [
      "File: 40/73 dataset_training/eye-data-79820.xlsx\n"
     ]
    },
    {
     "name": "stderr",
     "output_type": "stream",
     "text": [
      "C:\\Users\\01eco\\AppData\\Local\\Temp\\ipykernel_25708\\429507768.py:11: FutureWarning: DataFrame.interpolate with object dtype is deprecated and will raise in a future version. Call obj.infer_objects(copy=False) before interpolating instead.\n",
      "  ppdf = ppdf.interpolate(method='linear',limit_direction='both')\n",
      "c:\\Users\\01eco\\AppData\\Local\\Programs\\Python\\Python312\\Lib\\site-packages\\pyspark\\pandas\\frame.py:8890: FutureWarning: The DataFrame.append method is deprecated and will be removed in 4.0.0. Use pyspark.pandas.concat instead.\n",
      "  warnings.warn(\n"
     ]
    },
    {
     "name": "stdout",
     "output_type": "stream",
     "text": [
      "File: 41/73 dataset_training/eye-data-83008.xlsx\n"
     ]
    },
    {
     "name": "stderr",
     "output_type": "stream",
     "text": [
      "C:\\Users\\01eco\\AppData\\Local\\Temp\\ipykernel_25708\\429507768.py:11: FutureWarning: DataFrame.interpolate with object dtype is deprecated and will raise in a future version. Call obj.infer_objects(copy=False) before interpolating instead.\n",
      "  ppdf = ppdf.interpolate(method='linear',limit_direction='both')\n",
      "c:\\Users\\01eco\\AppData\\Local\\Programs\\Python\\Python312\\Lib\\site-packages\\pyspark\\pandas\\frame.py:8890: FutureWarning: The DataFrame.append method is deprecated and will be removed in 4.0.0. Use pyspark.pandas.concat instead.\n",
      "  warnings.warn(\n"
     ]
    },
    {
     "name": "stdout",
     "output_type": "stream",
     "text": [
      "File: 42/73 dataset_training/eye-data-84384.xlsx\n"
     ]
    },
    {
     "name": "stderr",
     "output_type": "stream",
     "text": [
      "C:\\Users\\01eco\\AppData\\Local\\Temp\\ipykernel_25708\\429507768.py:11: FutureWarning: DataFrame.interpolate with object dtype is deprecated and will raise in a future version. Call obj.infer_objects(copy=False) before interpolating instead.\n",
      "  ppdf = ppdf.interpolate(method='linear',limit_direction='both')\n",
      "c:\\Users\\01eco\\AppData\\Local\\Programs\\Python\\Python312\\Lib\\site-packages\\pyspark\\pandas\\frame.py:8890: FutureWarning: The DataFrame.append method is deprecated and will be removed in 4.0.0. Use pyspark.pandas.concat instead.\n",
      "  warnings.warn(\n"
     ]
    },
    {
     "name": "stdout",
     "output_type": "stream",
     "text": [
      "File: 43/73 dataset_training/eye-data-86812.xlsx\n"
     ]
    },
    {
     "name": "stderr",
     "output_type": "stream",
     "text": [
      "C:\\Users\\01eco\\AppData\\Local\\Temp\\ipykernel_25708\\429507768.py:11: FutureWarning: DataFrame.interpolate with object dtype is deprecated and will raise in a future version. Call obj.infer_objects(copy=False) before interpolating instead.\n",
      "  ppdf = ppdf.interpolate(method='linear',limit_direction='both')\n",
      "c:\\Users\\01eco\\AppData\\Local\\Programs\\Python\\Python312\\Lib\\site-packages\\pyspark\\pandas\\frame.py:8890: FutureWarning: The DataFrame.append method is deprecated and will be removed in 4.0.0. Use pyspark.pandas.concat instead.\n",
      "  warnings.warn(\n"
     ]
    },
    {
     "name": "stdout",
     "output_type": "stream",
     "text": [
      "File: 44/73 dataset_training/eye-data-91060.xlsx\n"
     ]
    },
    {
     "name": "stderr",
     "output_type": "stream",
     "text": [
      "C:\\Users\\01eco\\AppData\\Local\\Temp\\ipykernel_25708\\429507768.py:11: FutureWarning: DataFrame.interpolate with object dtype is deprecated and will raise in a future version. Call obj.infer_objects(copy=False) before interpolating instead.\n",
      "  ppdf = ppdf.interpolate(method='linear',limit_direction='both')\n",
      "c:\\Users\\01eco\\AppData\\Local\\Programs\\Python\\Python312\\Lib\\site-packages\\pyspark\\pandas\\frame.py:8890: FutureWarning: The DataFrame.append method is deprecated and will be removed in 4.0.0. Use pyspark.pandas.concat instead.\n",
      "  warnings.warn(\n"
     ]
    },
    {
     "name": "stdout",
     "output_type": "stream",
     "text": [
      "File: 45/73 dataset_training/eye-data-94231.xlsx\n"
     ]
    },
    {
     "name": "stderr",
     "output_type": "stream",
     "text": [
      "C:\\Users\\01eco\\AppData\\Local\\Temp\\ipykernel_25708\\429507768.py:11: FutureWarning: DataFrame.interpolate with object dtype is deprecated and will raise in a future version. Call obj.infer_objects(copy=False) before interpolating instead.\n",
      "  ppdf = ppdf.interpolate(method='linear',limit_direction='both')\n",
      "c:\\Users\\01eco\\AppData\\Local\\Programs\\Python\\Python312\\Lib\\site-packages\\pyspark\\pandas\\frame.py:8890: FutureWarning: The DataFrame.append method is deprecated and will be removed in 4.0.0. Use pyspark.pandas.concat instead.\n",
      "  warnings.warn(\n"
     ]
    },
    {
     "name": "stdout",
     "output_type": "stream",
     "text": [
      "File: 46/73 dataset_training/eye-data-95397.xlsx\n"
     ]
    },
    {
     "name": "stderr",
     "output_type": "stream",
     "text": [
      "C:\\Users\\01eco\\AppData\\Local\\Temp\\ipykernel_25708\\429507768.py:11: FutureWarning: DataFrame.interpolate with object dtype is deprecated and will raise in a future version. Call obj.infer_objects(copy=False) before interpolating instead.\n",
      "  ppdf = ppdf.interpolate(method='linear',limit_direction='both')\n",
      "c:\\Users\\01eco\\AppData\\Local\\Programs\\Python\\Python312\\Lib\\site-packages\\pyspark\\pandas\\frame.py:8890: FutureWarning: The DataFrame.append method is deprecated and will be removed in 4.0.0. Use pyspark.pandas.concat instead.\n",
      "  warnings.warn(\n"
     ]
    },
    {
     "name": "stdout",
     "output_type": "stream",
     "text": [
      "File: 47/73 dataset_training/eye-data-95985.xlsx\n"
     ]
    },
    {
     "name": "stderr",
     "output_type": "stream",
     "text": [
      "C:\\Users\\01eco\\AppData\\Local\\Temp\\ipykernel_25708\\429507768.py:11: FutureWarning: DataFrame.interpolate with object dtype is deprecated and will raise in a future version. Call obj.infer_objects(copy=False) before interpolating instead.\n",
      "  ppdf = ppdf.interpolate(method='linear',limit_direction='both')\n",
      "c:\\Users\\01eco\\AppData\\Local\\Programs\\Python\\Python312\\Lib\\site-packages\\pyspark\\pandas\\frame.py:8890: FutureWarning: The DataFrame.append method is deprecated and will be removed in 4.0.0. Use pyspark.pandas.concat instead.\n",
      "  warnings.warn(\n"
     ]
    },
    {
     "name": "stdout",
     "output_type": "stream",
     "text": [
      "File: 48/73 dataset_training/eye-data-96194.xlsx\n"
     ]
    },
    {
     "name": "stderr",
     "output_type": "stream",
     "text": [
      "C:\\Users\\01eco\\AppData\\Local\\Temp\\ipykernel_25708\\429507768.py:11: FutureWarning: DataFrame.interpolate with object dtype is deprecated and will raise in a future version. Call obj.infer_objects(copy=False) before interpolating instead.\n",
      "  ppdf = ppdf.interpolate(method='linear',limit_direction='both')\n",
      "c:\\Users\\01eco\\AppData\\Local\\Programs\\Python\\Python312\\Lib\\site-packages\\pyspark\\pandas\\frame.py:8890: FutureWarning: The DataFrame.append method is deprecated and will be removed in 4.0.0. Use pyspark.pandas.concat instead.\n",
      "  warnings.warn(\n"
     ]
    },
    {
     "name": "stdout",
     "output_type": "stream",
     "text": [
      "File: 49/73 dataset_training/eye-data-96679.xlsx\n"
     ]
    },
    {
     "name": "stderr",
     "output_type": "stream",
     "text": [
      "C:\\Users\\01eco\\AppData\\Local\\Temp\\ipykernel_25708\\429507768.py:11: FutureWarning: DataFrame.interpolate with object dtype is deprecated and will raise in a future version. Call obj.infer_objects(copy=False) before interpolating instead.\n",
      "  ppdf = ppdf.interpolate(method='linear',limit_direction='both')\n",
      "c:\\Users\\01eco\\AppData\\Local\\Programs\\Python\\Python312\\Lib\\site-packages\\pyspark\\pandas\\frame.py:8890: FutureWarning: The DataFrame.append method is deprecated and will be removed in 4.0.0. Use pyspark.pandas.concat instead.\n",
      "  warnings.warn(\n"
     ]
    },
    {
     "name": "stdout",
     "output_type": "stream",
     "text": [
      "File: 50/73 dataset_training/eye-data-97448.xlsx\n"
     ]
    },
    {
     "name": "stderr",
     "output_type": "stream",
     "text": [
      "C:\\Users\\01eco\\AppData\\Local\\Temp\\ipykernel_25708\\429507768.py:11: FutureWarning: DataFrame.interpolate with object dtype is deprecated and will raise in a future version. Call obj.infer_objects(copy=False) before interpolating instead.\n",
      "  ppdf = ppdf.interpolate(method='linear',limit_direction='both')\n",
      "c:\\Users\\01eco\\AppData\\Local\\Programs\\Python\\Python312\\Lib\\site-packages\\pyspark\\pandas\\frame.py:8890: FutureWarning: The DataFrame.append method is deprecated and will be removed in 4.0.0. Use pyspark.pandas.concat instead.\n",
      "  warnings.warn(\n"
     ]
    },
    {
     "name": "stdout",
     "output_type": "stream",
     "text": [
      "File: 51/73 dataset_training/eye-data-97973.xlsx\n"
     ]
    },
    {
     "name": "stderr",
     "output_type": "stream",
     "text": [
      "C:\\Users\\01eco\\AppData\\Local\\Temp\\ipykernel_25708\\429507768.py:11: FutureWarning: DataFrame.interpolate with object dtype is deprecated and will raise in a future version. Call obj.infer_objects(copy=False) before interpolating instead.\n",
      "  ppdf = ppdf.interpolate(method='linear',limit_direction='both')\n",
      "c:\\Users\\01eco\\AppData\\Local\\Programs\\Python\\Python312\\Lib\\site-packages\\pyspark\\pandas\\frame.py:8890: FutureWarning: The DataFrame.append method is deprecated and will be removed in 4.0.0. Use pyspark.pandas.concat instead.\n",
      "  warnings.warn(\n"
     ]
    },
    {
     "name": "stdout",
     "output_type": "stream",
     "text": [
      "File: 52/73 dataset_testing/eye-data-11868.xlsx\n"
     ]
    },
    {
     "name": "stderr",
     "output_type": "stream",
     "text": [
      "C:\\Users\\01eco\\AppData\\Local\\Temp\\ipykernel_25708\\429507768.py:11: FutureWarning: DataFrame.interpolate with object dtype is deprecated and will raise in a future version. Call obj.infer_objects(copy=False) before interpolating instead.\n",
      "  ppdf = ppdf.interpolate(method='linear',limit_direction='both')\n"
     ]
    },
    {
     "name": "stdout",
     "output_type": "stream",
     "text": [
      "File: 53/73 dataset_testing/eye-data-21182.xlsx\n"
     ]
    },
    {
     "name": "stderr",
     "output_type": "stream",
     "text": [
      "C:\\Users\\01eco\\AppData\\Local\\Temp\\ipykernel_25708\\429507768.py:11: FutureWarning: DataFrame.interpolate with object dtype is deprecated and will raise in a future version. Call obj.infer_objects(copy=False) before interpolating instead.\n",
      "  ppdf = ppdf.interpolate(method='linear',limit_direction='both')\n",
      "c:\\Users\\01eco\\AppData\\Local\\Programs\\Python\\Python312\\Lib\\site-packages\\pyspark\\pandas\\frame.py:8890: FutureWarning: The DataFrame.append method is deprecated and will be removed in 4.0.0. Use pyspark.pandas.concat instead.\n",
      "  warnings.warn(\n"
     ]
    },
    {
     "name": "stdout",
     "output_type": "stream",
     "text": [
      "File: 54/73 dataset_testing/eye-data-22446.xlsx\n"
     ]
    },
    {
     "name": "stderr",
     "output_type": "stream",
     "text": [
      "C:\\Users\\01eco\\AppData\\Local\\Temp\\ipykernel_25708\\429507768.py:11: FutureWarning: DataFrame.interpolate with object dtype is deprecated and will raise in a future version. Call obj.infer_objects(copy=False) before interpolating instead.\n",
      "  ppdf = ppdf.interpolate(method='linear',limit_direction='both')\n",
      "c:\\Users\\01eco\\AppData\\Local\\Programs\\Python\\Python312\\Lib\\site-packages\\pyspark\\pandas\\frame.py:8890: FutureWarning: The DataFrame.append method is deprecated and will be removed in 4.0.0. Use pyspark.pandas.concat instead.\n",
      "  warnings.warn(\n"
     ]
    },
    {
     "name": "stdout",
     "output_type": "stream",
     "text": [
      "File: 55/73 dataset_testing/eye-data-23921.xlsx\n"
     ]
    },
    {
     "name": "stderr",
     "output_type": "stream",
     "text": [
      "C:\\Users\\01eco\\AppData\\Local\\Temp\\ipykernel_25708\\429507768.py:11: FutureWarning: DataFrame.interpolate with object dtype is deprecated and will raise in a future version. Call obj.infer_objects(copy=False) before interpolating instead.\n",
      "  ppdf = ppdf.interpolate(method='linear',limit_direction='both')\n",
      "c:\\Users\\01eco\\AppData\\Local\\Programs\\Python\\Python312\\Lib\\site-packages\\pyspark\\pandas\\frame.py:8890: FutureWarning: The DataFrame.append method is deprecated and will be removed in 4.0.0. Use pyspark.pandas.concat instead.\n",
      "  warnings.warn(\n"
     ]
    },
    {
     "name": "stdout",
     "output_type": "stream",
     "text": [
      "File: 56/73 dataset_testing/eye-data-38989.xlsx\n"
     ]
    },
    {
     "name": "stderr",
     "output_type": "stream",
     "text": [
      "C:\\Users\\01eco\\AppData\\Local\\Temp\\ipykernel_25708\\429507768.py:11: FutureWarning: DataFrame.interpolate with object dtype is deprecated and will raise in a future version. Call obj.infer_objects(copy=False) before interpolating instead.\n",
      "  ppdf = ppdf.interpolate(method='linear',limit_direction='both')\n",
      "c:\\Users\\01eco\\AppData\\Local\\Programs\\Python\\Python312\\Lib\\site-packages\\pyspark\\pandas\\frame.py:8890: FutureWarning: The DataFrame.append method is deprecated and will be removed in 4.0.0. Use pyspark.pandas.concat instead.\n",
      "  warnings.warn(\n"
     ]
    },
    {
     "name": "stdout",
     "output_type": "stream",
     "text": [
      "File: 57/73 dataset_testing/eye-data-46094.xlsx\n"
     ]
    },
    {
     "name": "stderr",
     "output_type": "stream",
     "text": [
      "C:\\Users\\01eco\\AppData\\Local\\Temp\\ipykernel_25708\\429507768.py:11: FutureWarning: DataFrame.interpolate with object dtype is deprecated and will raise in a future version. Call obj.infer_objects(copy=False) before interpolating instead.\n",
      "  ppdf = ppdf.interpolate(method='linear',limit_direction='both')\n",
      "c:\\Users\\01eco\\AppData\\Local\\Programs\\Python\\Python312\\Lib\\site-packages\\pyspark\\pandas\\frame.py:8890: FutureWarning: The DataFrame.append method is deprecated and will be removed in 4.0.0. Use pyspark.pandas.concat instead.\n",
      "  warnings.warn(\n"
     ]
    },
    {
     "name": "stdout",
     "output_type": "stream",
     "text": [
      "File: 58/73 dataset_testing/eye-data-54097.xlsx\n"
     ]
    },
    {
     "name": "stderr",
     "output_type": "stream",
     "text": [
      "C:\\Users\\01eco\\AppData\\Local\\Temp\\ipykernel_25708\\429507768.py:11: FutureWarning: DataFrame.interpolate with object dtype is deprecated and will raise in a future version. Call obj.infer_objects(copy=False) before interpolating instead.\n",
      "  ppdf = ppdf.interpolate(method='linear',limit_direction='both')\n",
      "c:\\Users\\01eco\\AppData\\Local\\Programs\\Python\\Python312\\Lib\\site-packages\\pyspark\\pandas\\frame.py:8890: FutureWarning: The DataFrame.append method is deprecated and will be removed in 4.0.0. Use pyspark.pandas.concat instead.\n",
      "  warnings.warn(\n"
     ]
    },
    {
     "name": "stdout",
     "output_type": "stream",
     "text": [
      "File: 59/73 dataset_testing/eye-data-72799.xlsx\n"
     ]
    },
    {
     "name": "stderr",
     "output_type": "stream",
     "text": [
      "C:\\Users\\01eco\\AppData\\Local\\Temp\\ipykernel_25708\\429507768.py:11: FutureWarning: DataFrame.interpolate with object dtype is deprecated and will raise in a future version. Call obj.infer_objects(copy=False) before interpolating instead.\n",
      "  ppdf = ppdf.interpolate(method='linear',limit_direction='both')\n",
      "c:\\Users\\01eco\\AppData\\Local\\Programs\\Python\\Python312\\Lib\\site-packages\\pyspark\\pandas\\frame.py:8890: FutureWarning: The DataFrame.append method is deprecated and will be removed in 4.0.0. Use pyspark.pandas.concat instead.\n",
      "  warnings.warn(\n"
     ]
    },
    {
     "name": "stdout",
     "output_type": "stream",
     "text": [
      "File: 60/73 dataset_testing/eye-data-75601.xlsx\n"
     ]
    },
    {
     "name": "stderr",
     "output_type": "stream",
     "text": [
      "C:\\Users\\01eco\\AppData\\Local\\Temp\\ipykernel_25708\\429507768.py:11: FutureWarning: DataFrame.interpolate with object dtype is deprecated and will raise in a future version. Call obj.infer_objects(copy=False) before interpolating instead.\n",
      "  ppdf = ppdf.interpolate(method='linear',limit_direction='both')\n",
      "c:\\Users\\01eco\\AppData\\Local\\Programs\\Python\\Python312\\Lib\\site-packages\\pyspark\\pandas\\frame.py:8890: FutureWarning: The DataFrame.append method is deprecated and will be removed in 4.0.0. Use pyspark.pandas.concat instead.\n",
      "  warnings.warn(\n"
     ]
    },
    {
     "name": "stdout",
     "output_type": "stream",
     "text": [
      "File: 61/73 dataset_testing/eye-data-91260.xlsx\n"
     ]
    },
    {
     "name": "stderr",
     "output_type": "stream",
     "text": [
      "C:\\Users\\01eco\\AppData\\Local\\Temp\\ipykernel_25708\\429507768.py:11: FutureWarning: DataFrame.interpolate with object dtype is deprecated and will raise in a future version. Call obj.infer_objects(copy=False) before interpolating instead.\n",
      "  ppdf = ppdf.interpolate(method='linear',limit_direction='both')\n",
      "c:\\Users\\01eco\\AppData\\Local\\Programs\\Python\\Python312\\Lib\\site-packages\\pyspark\\pandas\\frame.py:8890: FutureWarning: The DataFrame.append method is deprecated and will be removed in 4.0.0. Use pyspark.pandas.concat instead.\n",
      "  warnings.warn(\n"
     ]
    },
    {
     "name": "stdout",
     "output_type": "stream",
     "text": [
      "File: 62/73 dataset_testing/eye-data-97051.xlsx\n"
     ]
    },
    {
     "name": "stderr",
     "output_type": "stream",
     "text": [
      "C:\\Users\\01eco\\AppData\\Local\\Temp\\ipykernel_25708\\429507768.py:11: FutureWarning: DataFrame.interpolate with object dtype is deprecated and will raise in a future version. Call obj.infer_objects(copy=False) before interpolating instead.\n",
      "  ppdf = ppdf.interpolate(method='linear',limit_direction='both')\n",
      "c:\\Users\\01eco\\AppData\\Local\\Programs\\Python\\Python312\\Lib\\site-packages\\pyspark\\pandas\\frame.py:8890: FutureWarning: The DataFrame.append method is deprecated and will be removed in 4.0.0. Use pyspark.pandas.concat instead.\n",
      "  warnings.warn(\n"
     ]
    },
    {
     "name": "stdout",
     "output_type": "stream",
     "text": [
      "File: 63/73 dataset_validation/eye-data-11085.xlsx\n"
     ]
    },
    {
     "name": "stderr",
     "output_type": "stream",
     "text": [
      "C:\\Users\\01eco\\AppData\\Local\\Temp\\ipykernel_25708\\429507768.py:11: FutureWarning: DataFrame.interpolate with object dtype is deprecated and will raise in a future version. Call obj.infer_objects(copy=False) before interpolating instead.\n",
      "  ppdf = ppdf.interpolate(method='linear',limit_direction='both')\n"
     ]
    },
    {
     "name": "stdout",
     "output_type": "stream",
     "text": [
      "File: 64/73 dataset_validation/eye-data-14732.xlsx\n"
     ]
    },
    {
     "name": "stderr",
     "output_type": "stream",
     "text": [
      "C:\\Users\\01eco\\AppData\\Local\\Temp\\ipykernel_25708\\429507768.py:11: FutureWarning: DataFrame.interpolate with object dtype is deprecated and will raise in a future version. Call obj.infer_objects(copy=False) before interpolating instead.\n",
      "  ppdf = ppdf.interpolate(method='linear',limit_direction='both')\n",
      "c:\\Users\\01eco\\AppData\\Local\\Programs\\Python\\Python312\\Lib\\site-packages\\pyspark\\pandas\\frame.py:8890: FutureWarning: The DataFrame.append method is deprecated and will be removed in 4.0.0. Use pyspark.pandas.concat instead.\n",
      "  warnings.warn(\n"
     ]
    },
    {
     "name": "stdout",
     "output_type": "stream",
     "text": [
      "File: 65/73 dataset_validation/eye-data-17381.xlsx\n"
     ]
    },
    {
     "name": "stderr",
     "output_type": "stream",
     "text": [
      "C:\\Users\\01eco\\AppData\\Local\\Temp\\ipykernel_25708\\429507768.py:11: FutureWarning: DataFrame.interpolate with object dtype is deprecated and will raise in a future version. Call obj.infer_objects(copy=False) before interpolating instead.\n",
      "  ppdf = ppdf.interpolate(method='linear',limit_direction='both')\n",
      "c:\\Users\\01eco\\AppData\\Local\\Programs\\Python\\Python312\\Lib\\site-packages\\pyspark\\pandas\\frame.py:8890: FutureWarning: The DataFrame.append method is deprecated and will be removed in 4.0.0. Use pyspark.pandas.concat instead.\n",
      "  warnings.warn(\n"
     ]
    },
    {
     "name": "stdout",
     "output_type": "stream",
     "text": [
      "File: 66/73 dataset_validation/eye-data-19733.xlsx\n"
     ]
    },
    {
     "name": "stderr",
     "output_type": "stream",
     "text": [
      "C:\\Users\\01eco\\AppData\\Local\\Temp\\ipykernel_25708\\429507768.py:11: FutureWarning: DataFrame.interpolate with object dtype is deprecated and will raise in a future version. Call obj.infer_objects(copy=False) before interpolating instead.\n",
      "  ppdf = ppdf.interpolate(method='linear',limit_direction='both')\n",
      "c:\\Users\\01eco\\AppData\\Local\\Programs\\Python\\Python312\\Lib\\site-packages\\pyspark\\pandas\\frame.py:8890: FutureWarning: The DataFrame.append method is deprecated and will be removed in 4.0.0. Use pyspark.pandas.concat instead.\n",
      "  warnings.warn(\n"
     ]
    },
    {
     "name": "stdout",
     "output_type": "stream",
     "text": [
      "File: 67/73 dataset_validation/eye-data-26585.xlsx\n"
     ]
    },
    {
     "name": "stderr",
     "output_type": "stream",
     "text": [
      "C:\\Users\\01eco\\AppData\\Local\\Temp\\ipykernel_25708\\429507768.py:11: FutureWarning: DataFrame.interpolate with object dtype is deprecated and will raise in a future version. Call obj.infer_objects(copy=False) before interpolating instead.\n",
      "  ppdf = ppdf.interpolate(method='linear',limit_direction='both')\n",
      "c:\\Users\\01eco\\AppData\\Local\\Programs\\Python\\Python312\\Lib\\site-packages\\pyspark\\pandas\\frame.py:8890: FutureWarning: The DataFrame.append method is deprecated and will be removed in 4.0.0. Use pyspark.pandas.concat instead.\n",
      "  warnings.warn(\n"
     ]
    },
    {
     "name": "stdout",
     "output_type": "stream",
     "text": [
      "File: 68/73 dataset_validation/eye-data-29097.xlsx\n"
     ]
    },
    {
     "name": "stderr",
     "output_type": "stream",
     "text": [
      "C:\\Users\\01eco\\AppData\\Local\\Temp\\ipykernel_25708\\429507768.py:11: FutureWarning: DataFrame.interpolate with object dtype is deprecated and will raise in a future version. Call obj.infer_objects(copy=False) before interpolating instead.\n",
      "  ppdf = ppdf.interpolate(method='linear',limit_direction='both')\n",
      "c:\\Users\\01eco\\AppData\\Local\\Programs\\Python\\Python312\\Lib\\site-packages\\pyspark\\pandas\\frame.py:8890: FutureWarning: The DataFrame.append method is deprecated and will be removed in 4.0.0. Use pyspark.pandas.concat instead.\n",
      "  warnings.warn(\n"
     ]
    },
    {
     "name": "stdout",
     "output_type": "stream",
     "text": [
      "File: 69/73 dataset_validation/eye-data-37883.xlsx\n"
     ]
    },
    {
     "name": "stderr",
     "output_type": "stream",
     "text": [
      "C:\\Users\\01eco\\AppData\\Local\\Temp\\ipykernel_25708\\429507768.py:11: FutureWarning: DataFrame.interpolate with object dtype is deprecated and will raise in a future version. Call obj.infer_objects(copy=False) before interpolating instead.\n",
      "  ppdf = ppdf.interpolate(method='linear',limit_direction='both')\n",
      "c:\\Users\\01eco\\AppData\\Local\\Programs\\Python\\Python312\\Lib\\site-packages\\pyspark\\pandas\\frame.py:8890: FutureWarning: The DataFrame.append method is deprecated and will be removed in 4.0.0. Use pyspark.pandas.concat instead.\n",
      "  warnings.warn(\n"
     ]
    },
    {
     "name": "stdout",
     "output_type": "stream",
     "text": [
      "File: 70/73 dataset_validation/eye-data-39692.xlsx\n"
     ]
    },
    {
     "name": "stderr",
     "output_type": "stream",
     "text": [
      "C:\\Users\\01eco\\AppData\\Local\\Temp\\ipykernel_25708\\429507768.py:11: FutureWarning: DataFrame.interpolate with object dtype is deprecated and will raise in a future version. Call obj.infer_objects(copy=False) before interpolating instead.\n",
      "  ppdf = ppdf.interpolate(method='linear',limit_direction='both')\n",
      "c:\\Users\\01eco\\AppData\\Local\\Programs\\Python\\Python312\\Lib\\site-packages\\pyspark\\pandas\\frame.py:8890: FutureWarning: The DataFrame.append method is deprecated and will be removed in 4.0.0. Use pyspark.pandas.concat instead.\n",
      "  warnings.warn(\n"
     ]
    },
    {
     "name": "stdout",
     "output_type": "stream",
     "text": [
      "File: 71/73 dataset_validation/eye-data-41473.xlsx\n"
     ]
    },
    {
     "name": "stderr",
     "output_type": "stream",
     "text": [
      "C:\\Users\\01eco\\AppData\\Local\\Temp\\ipykernel_25708\\429507768.py:11: FutureWarning: DataFrame.interpolate with object dtype is deprecated and will raise in a future version. Call obj.infer_objects(copy=False) before interpolating instead.\n",
      "  ppdf = ppdf.interpolate(method='linear',limit_direction='both')\n",
      "c:\\Users\\01eco\\AppData\\Local\\Programs\\Python\\Python312\\Lib\\site-packages\\pyspark\\pandas\\frame.py:8890: FutureWarning: The DataFrame.append method is deprecated and will be removed in 4.0.0. Use pyspark.pandas.concat instead.\n",
      "  warnings.warn(\n"
     ]
    },
    {
     "name": "stdout",
     "output_type": "stream",
     "text": [
      "File: 72/73 dataset_validation/eye-data-51553.xlsx\n"
     ]
    },
    {
     "name": "stderr",
     "output_type": "stream",
     "text": [
      "C:\\Users\\01eco\\AppData\\Local\\Temp\\ipykernel_25708\\429507768.py:11: FutureWarning: DataFrame.interpolate with object dtype is deprecated and will raise in a future version. Call obj.infer_objects(copy=False) before interpolating instead.\n",
      "  ppdf = ppdf.interpolate(method='linear',limit_direction='both')\n",
      "c:\\Users\\01eco\\AppData\\Local\\Programs\\Python\\Python312\\Lib\\site-packages\\pyspark\\pandas\\frame.py:8890: FutureWarning: The DataFrame.append method is deprecated and will be removed in 4.0.0. Use pyspark.pandas.concat instead.\n",
      "  warnings.warn(\n"
     ]
    },
    {
     "name": "stdout",
     "output_type": "stream",
     "text": [
      "File: 73/73 dataset_validation/eye-data-64087.xlsx\n"
     ]
    },
    {
     "name": "stderr",
     "output_type": "stream",
     "text": [
      "C:\\Users\\01eco\\AppData\\Local\\Temp\\ipykernel_25708\\429507768.py:11: FutureWarning: DataFrame.interpolate with object dtype is deprecated and will raise in a future version. Call obj.infer_objects(copy=False) before interpolating instead.\n",
      "  ppdf = ppdf.interpolate(method='linear',limit_direction='both')\n",
      "c:\\Users\\01eco\\AppData\\Local\\Programs\\Python\\Python312\\Lib\\site-packages\\pyspark\\pandas\\frame.py:8890: FutureWarning: The DataFrame.append method is deprecated and will be removed in 4.0.0. Use pyspark.pandas.concat instead.\n",
      "  warnings.warn(\n"
     ]
    }
   ],
   "source": [
    "file_num = 1\n",
    "\n",
    "# iterate through the list of files to read them, interpolate missing data, merge them and convert to pyspark\n",
    "# this takes 5-20 minutes and should be optimized in the future\n",
    "\n",
    "for file_path in file_list:\n",
    "    print(f'File: {file_num}/{len(file_list)} {file_path[0]}')\n",
    "    \n",
    "    # read the dataframe as python and then convert to pyspark since it has to be read in from excel spreadsheet\n",
    "    ppdf = pd.read_excel(io=file_path[0],sheet_name=sheet) # read excel as pandas\n",
    "    ppdf = ppdf.interpolate(method='linear',limit_direction='both')\n",
    "\n",
    "    ppdf_first = ppdf.iloc[:-1] # create copy of ppdf and remove last row\n",
    "    ppdf_second = ppdf.copy().iloc[1:] # create a copy of ppdf and remove the first row\n",
    "    ppdf_second.reset_index(drop=True, inplace=True)  # Reset index to ensure alignment\n",
    "\n",
    "    ppdf_second.columns = [col + '_2' for col in ppdf_second.columns]# rename the columns of the second copy\n",
    "    ppdf_combined = pd.concat([ppdf_first,ppdf_second],axis=1) # merge first copy and second copy side by side\n",
    "\n",
    "    psdf = ps.from_pandas(ppdf_combined)\n",
    "    \n",
    "    if file_path[1] == 0:  # train\n",
    "        if df_train is None:\n",
    "            df_train = psdf\n",
    "        else:\n",
    "            df_train.append(psdf, ignore_index = True)# append current dataset to the one that is already existing\n",
    "\n",
    "    elif file_path[1] == 1:  # test\n",
    "        if df_test is None:\n",
    "            df_test = psdf\n",
    "        else:\n",
    "            df_test.append(psdf, ignore_index = True)# append current dataset to the one that is already existing\n",
    "    elif file_path[1] == 2:  # validation\n",
    "        if df_validation is None:\n",
    "            df_validation = psdf\n",
    "        else:\n",
    "            df_validation.append(psdf, ignore_index = True)\n",
    "\n",
    "    file_num+=1"
   ]
  },
  {
   "cell_type": "code",
   "execution_count": null,
   "metadata": {},
   "outputs": [],
   "source": [
    "df_train.shape"
   ]
  }
 ],
 "metadata": {
  "kernelspec": {
   "display_name": "Python 3",
   "language": "python",
   "name": "python3"
  },
  "language_info": {
   "codemirror_mode": {
    "name": "ipython",
    "version": 3
   },
   "file_extension": ".py",
   "mimetype": "text/x-python",
   "name": "python",
   "nbconvert_exporter": "python",
   "pygments_lexer": "ipython3",
   "version": "3.12.2"
  }
 },
 "nbformat": 4,
 "nbformat_minor": 2
}
