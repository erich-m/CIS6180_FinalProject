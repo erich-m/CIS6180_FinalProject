{
 "cells": [
  {
   "cell_type": "markdown",
   "metadata": {},
   "source": [
    "#  Project Description\n",
    "\n",
    "##  Background\n",
    "\n",
    "Eye tracking is a technology that is used to measure the movement and position of the eye. Eye tracking can be used to obtain a variety of information, such as where someone is looking (also known as the gaze point). The raw eye tracking data cann also be used to engineer new features - eye tracking events - which can further be used to obtain more information. \n",
    "\n",
    "The types of eye tracking events that we can measure for include fixations, which are periods of time where the eye fixates on a target. There are saccades where the eyes move between points of fixations. There are also post-saccidic oscillations and glissades where the eye will oscillate after a saccade before settling to a fixation point. Post-saccadic oscillations overshoot the target, while glissades undershoot.\n",
    "\n",
    "These types of events can be measured by applying different threshold techniques. I-VT applies a velocity threshold; If the speed between two gaze points is below a certain threshold, it is identified as a fixation. If the speed is above the threshold, it is a  saccade. There is also a dispersion/distance based method as well known as I-DT, that uses the distance between the gaze points instead to classify either fixations and saccades. These threshold algorithms are common in practice, but do not have the ability to classify more complex events. \n",
    "\n",
    "For the purpose of performing the I-VT  algorithm, a speed of 0.5px/ms was selected, and a dispersion of 1º was selected for I-DT.\n",
    "\n",
    "## Dataset\n",
    "\n",
    "For the following notebook, the dataset used is from a study performed in the University of Guelph DRiVE lab. Particpants wore eye-tracking glasses (Tobii Pro 3 glasses) and drove an OKTAL driving simulator. The dataset contains 74 participants that are randomly separated into train, test and validation sets. This will prevent leakage amonst the different particpant data.  Each of the files contains 3 different sets of data. There is some device information that is read in and in the sheet titled 'Event Data'. There is IMU sensor data in the sheet titled 'IMU Data'. The eye tracking data is in the sheet titled 'Gaze Data'. The sheets have 4, 22 and 11 columns respectively. The data  from the eye tracker is collected at 60Hz, and each participant file has roughly 20000 records in each file. The data is pre-split to ensure that there is no leakage between participant data, which could affect the training of the models, and to ensure a more consistent evaluation of the performance of the models.\n",
    "\n",
    "## Procedure\n",
    "\n",
    "1. The Gaze Data is read into the notebook using an Excel library.\n",
    "2. For each participant file, any gaps in the data are filled in using linear interpolation first. \n",
    "3. Next, every two records are taken to calculate the labels using I-VT and I-DT and these are stored into a new dataframe. "
   ]
  },
  {
   "cell_type": "markdown",
   "metadata": {},
   "source": [
    "# Set Up Python Libraries"
   ]
  },
  {
   "cell_type": "code",
   "execution_count": 2,
   "metadata": {},
   "outputs": [],
   "source": [
    "import pandas as pd\n",
    "from os import listdir"
   ]
  },
  {
   "cell_type": "code",
   "execution_count": 3,
   "metadata": {},
   "outputs": [],
   "source": [
    "datasets = ['dataset_training','dataset_testing','dataset_validation'] # directories for training, testing and valdiation"
   ]
  },
  {
   "cell_type": "code",
   "execution_count": 4,
   "metadata": {},
   "outputs": [
    {
     "name": "stdout",
     "output_type": "stream",
     "text": [
      "['eye-data-26370.xlsx', 'eye-data-96194.xlsx', 'eye-data-55746.xlsx', 'eye-data-20116.xlsx', 'eye-data-64765.xlsx', 'eye-data-71291.xlsx', 'eye-data-51637.xlsx', 'eye-data-25462.xlsx', 'eye-data-22013.xlsx', 'eye-data-21895.xlsx', 'eye-data-35217.xlsx', 'eye-data-53349.xlsx', 'eye-data-94231.xlsx', 'eye-data-79820.xlsx', 'eye-data-23090.xlsx', 'eye-data-46307.xlsx', 'eye-data-23753.xlsx', 'eye-data-35745.xlsx', 'eye-data-29048.xlsx', 'eye-data-91060.xlsx', 'eye-data-48737.xlsx', 'eye-data-55367.xlsx', 'eye-data-47402.xlsx', 'eye-data-97448.xlsx', 'eye-data-70615.xlsx', 'eye-data-56135.xlsx', 'eye-data-28334.xlsx', 'eye-data-46121.xlsx', 'eye-data-96679.xlsx', 'eye-data-21051.xlsx', 'eye-data-12471.xlsx', 'eye-data-83008.xlsx', 'eye-data-63923.xlsx', 'eye-data-56233.xlsx', 'eye-data-18514.xlsx', 'eye-data-84384.xlsx', 'eye-data-52063.xlsx', 'eye-data-54455.xlsx', 'eye-data-95397.xlsx', 'eye-data-86812.xlsx', 'eye-data-10327.xlsx', 'eye-data-41517.xlsx', 'eye-data-34473.xlsx', 'eye-data-59774.xlsx', 'eye-data-95985.xlsx', 'eye-data-76001.xlsx', 'eye-data-53209.xlsx', 'eye-data-70253.xlsx', 'eye-data-97973.xlsx', 'eye-data-47274.xlsx', 'eye-data-69876.xlsx']\n",
      "['eye-data-11868.xlsx', 'eye-data-21182.xlsx', 'eye-data-97051.xlsx', 'eye-data-23921.xlsx', 'eye-data-38989.xlsx', 'eye-data-54097.xlsx', 'eye-data-75601.xlsx', 'eye-data-91260.xlsx', 'eye-data-46094.xlsx', 'eye-data-22446.xlsx', 'eye-data-72799.xlsx']\n",
      "['eye-data-29097.xlsx', 'eye-data-14732.xlsx', 'eye-data-11085.xlsx', 'eye-data-26585.xlsx', 'eye-data-51553.xlsx', 'eye-data-19733.xlsx', 'eye-data-41473.xlsx', 'eye-data-37883.xlsx', 'eye-data-17381.xlsx', 'eye-data-64087.xlsx', 'eye-data-39692.xlsx']\n"
     ]
    }
   ],
   "source": [
    "for dataset in datasets:\n",
    "    print(listdir(dataset))"
   ]
  }
 ],
 "metadata": {
  "kernelspec": {
   "display_name": "Python 3",
   "language": "python",
   "name": "python3"
  },
  "language_info": {
   "codemirror_mode": {
    "name": "ipython",
    "version": 3
   },
   "file_extension": ".py",
   "mimetype": "text/x-python",
   "name": "python",
   "nbconvert_exporter": "python",
   "pygments_lexer": "ipython3",
   "version": "3.11.8"
  }
 },
 "nbformat": 4,
 "nbformat_minor": 2
}
